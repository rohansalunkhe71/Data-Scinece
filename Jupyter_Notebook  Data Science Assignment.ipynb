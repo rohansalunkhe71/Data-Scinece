{
 "cells": [
  {
   "cell_type": "markdown",
   "metadata": {},
   "source": [
    "<center>\n",
    "    <img src=\"https://s3-api.us-geo.objectstorage.softlayer.net/cf-courses-data/CognitiveClass/Logos/organization_logo/organization_logo.png\" width=\"300\" alt=\"cognitiveclass.ai logo\"  />\n",
    "</center>\n"
   ]
  },
  {
   "cell_type": "markdown",
   "metadata": {},
   "source": [
    "#### Add your code below following the instructions given in the course\n"
   ]
  },
  {
   "cell_type": "markdown",
   "metadata": {},
   "source": [
    "# My Jupyter Notebook on IBM Watson Studio"
   ]
  },
  {
   "cell_type": "markdown",
   "metadata": {},
   "source": [
    "Rohan Salunkhe\n",
    "Cuuent Occupatt: Digital marketer   Desired Occupation: Data Scientist"
   ]
  },
  {
   "cell_type": "markdown",
   "metadata": {},
   "source": [
    "*As I love maths, logical reasoning, and analyzing scenarios data science is one profession which will help me use my skills in real world scenario. Also due to my knowledge in python it is great opportunity to move in the field of data science and machine learning.*"
   ]
  },
  {
   "cell_type": "markdown",
   "metadata": {},
   "source": [
    "### Code for adding two numbers"
   ]
  },
  {
   "cell_type": "code",
   "execution_count": 7,
   "metadata": {},
   "outputs": [
    {
     "name": "stdout",
     "output_type": "stream",
     "text": [
      "Hello, this is a simple code for addition of 2 numbers\n",
      "7\n"
     ]
    }
   ],
   "source": [
    "print('Hello, this is a simple code for addition of 2 numbers')\n",
    "a = 3\n",
    "b =4\n",
    "c = a+b\n",
    "print(c)"
   ]
  },
  {
   "cell_type": "markdown",
   "metadata": {},
   "source": [
    "Bulleted list showing Working of a above code\n",
    "- Assigning variable to the numbers\n",
    "- performing the mathematical operation to variable c\n",
    "- printing the result (variable c)\n",
    "\n",
    "\n",
    "Hyper link:\n",
    "__[IBM Cloud link](https://cloud.ibm.com/login)__\n",
    "\n",
    "\n",
    "\n",
    "Image:\n",
    "\n",
    "\n",
    "<img src=\"https://i.pinimg.com/564x/7f/26/e7/7f26e71b2c84e6b16d4f6d3fd8a58bca.jpg\" alt=\"Cute dog\" title=\"Cute Dog from Pinterest\" />\n",
    "\n",
    "\n",
    "\n",
    "\n",
    "\n",
    "Number list:\n",
    "Highly used languages for Data Science\n",
    "1. Python\n",
    "2. R\n",
    "3. SQL\n"
   ]
  },
  {
   "cell_type": "code",
   "execution_count": null,
   "metadata": {},
   "outputs": [],
   "source": []
  }
 ],
 "metadata": {
  "kernelspec": {
   "display_name": "Python",
   "language": "python",
   "name": "conda-env-python-py"
  },
  "language_info": {
   "codemirror_mode": {
    "name": "ipython",
    "version": 3
   },
   "file_extension": ".py",
   "mimetype": "text/x-python",
   "name": "python",
   "nbconvert_exporter": "python",
   "pygments_lexer": "ipython3",
   "version": "3.7.12"
  }
 },
 "nbformat": 4,
 "nbformat_minor": 4
}
